{
 "cells": [
  {
   "cell_type": "code",
   "execution_count": 37,
   "metadata": {},
   "outputs": [
    {
     "data": {
      "text/html": [
       "<div>\n",
       "<style scoped>\n",
       "    .dataframe tbody tr th:only-of-type {\n",
       "        vertical-align: middle;\n",
       "    }\n",
       "\n",
       "    .dataframe tbody tr th {\n",
       "        vertical-align: top;\n",
       "    }\n",
       "\n",
       "    .dataframe thead th {\n",
       "        text-align: right;\n",
       "    }\n",
       "</style>\n",
       "<table border=\"1\" class=\"dataframe\">\n",
       "  <thead>\n",
       "    <tr style=\"text-align: right;\">\n",
       "      <th></th>\n",
       "      <th>Year</th>\n",
       "    </tr>\n",
       "    <tr>\n",
       "      <th>Country</th>\n",
       "      <th></th>\n",
       "    </tr>\n",
       "  </thead>\n",
       "  <tbody>\n",
       "    <tr>\n",
       "      <td>Austria</td>\n",
       "      <td>2</td>\n",
       "    </tr>\n",
       "    <tr>\n",
       "      <td>Canada</td>\n",
       "      <td>2</td>\n",
       "    </tr>\n",
       "    <tr>\n",
       "      <td>France</td>\n",
       "      <td>3</td>\n",
       "    </tr>\n",
       "    <tr>\n",
       "      <td>Germany</td>\n",
       "      <td>1</td>\n",
       "    </tr>\n",
       "    <tr>\n",
       "      <td>Italy</td>\n",
       "      <td>2</td>\n",
       "    </tr>\n",
       "    <tr>\n",
       "      <td>Japan</td>\n",
       "      <td>2</td>\n",
       "    </tr>\n",
       "    <tr>\n",
       "      <td>Norway</td>\n",
       "      <td>2</td>\n",
       "    </tr>\n",
       "    <tr>\n",
       "      <td>Russia</td>\n",
       "      <td>1</td>\n",
       "    </tr>\n",
       "    <tr>\n",
       "      <td>South Korea</td>\n",
       "      <td>1</td>\n",
       "    </tr>\n",
       "    <tr>\n",
       "      <td>Switzerland</td>\n",
       "      <td>2</td>\n",
       "    </tr>\n",
       "    <tr>\n",
       "      <td>United States</td>\n",
       "      <td>4</td>\n",
       "    </tr>\n",
       "    <tr>\n",
       "      <td>Yugoslavia</td>\n",
       "      <td>1</td>\n",
       "    </tr>\n",
       "  </tbody>\n",
       "</table>\n",
       "</div>"
      ],
      "text/plain": [
       "               Year\n",
       "Country            \n",
       "Austria           2\n",
       "Canada            2\n",
       "France            3\n",
       "Germany           1\n",
       "Italy             2\n",
       "Japan             2\n",
       "Norway            2\n",
       "Russia            1\n",
       "South Korea       1\n",
       "Switzerland       2\n",
       "United States     4\n",
       "Yugoslavia        1"
      ]
     },
     "execution_count": 37,
     "metadata": {},
     "output_type": "execute_result"
    }
   ],
   "source": [
    "# Import dependencsummer_df = pd.read_csv(t matplotlib.pyplot as plt\n",
    "import pandas as pd\n",
    "import numpy as np\n",
    "import scipy.stats as st\n",
    "\n",
    "# Read csv file and store into dataframe:\n",
    "\n",
    "complete_df = pd.read_csv(\"../Resources/athlete_events.csv\")\n",
    "summer_df = pd.read_csv(\"../Resources/olympic_host_summer.csv\")\n",
    "winter_df = pd.read_csv(\"../Resources/olympic_host_winter.csv\")\n",
    "\n",
    "\n",
    "cleaned_up_ht_wt = complete_df.dropna(subset= [\"Height\", \"Weight\",  \"Medal\"] )\n",
    "summer_df\n",
    "grp_by_summer_country = summer_df.groupby(['Country']).count()\n",
    "grp_by_summer_country\n",
    "grp_by_winter_country = winter_df.groupby(['Country']).count()\n",
    "grp_by_winter_country \n",
    "#type(grp_by_summer_country)"
   ]
  },
  {
   "cell_type": "code",
   "execution_count": 17,
   "metadata": {},
   "outputs": [
    {
     "data": {
      "text/html": [
       "<div>\n",
       "<style scoped>\n",
       "    .dataframe tbody tr th:only-of-type {\n",
       "        vertical-align: middle;\n",
       "    }\n",
       "\n",
       "    .dataframe tbody tr th {\n",
       "        vertical-align: top;\n",
       "    }\n",
       "\n",
       "    .dataframe thead th {\n",
       "        text-align: right;\n",
       "    }\n",
       "</style>\n",
       "<table border=\"1\" class=\"dataframe\">\n",
       "  <thead>\n",
       "    <tr style=\"text-align: right;\">\n",
       "      <th></th>\n",
       "      <th>Name</th>\n",
       "      <th>Year</th>\n",
       "      <th>Country</th>\n",
       "    </tr>\n",
       "  </thead>\n",
       "  <tbody>\n",
       "    <tr>\n",
       "      <td>0</td>\n",
       "      <td>Paavo Johannes Aaltonen</td>\n",
       "      <td>1948</td>\n",
       "      <td>England</td>\n",
       "    </tr>\n",
       "    <tr>\n",
       "      <td>1</td>\n",
       "      <td>Paavo Johannes Aaltonen</td>\n",
       "      <td>1948</td>\n",
       "      <td>England</td>\n",
       "    </tr>\n",
       "    <tr>\n",
       "      <td>2</td>\n",
       "      <td>Paavo Johannes Aaltonen</td>\n",
       "      <td>1948</td>\n",
       "      <td>England</td>\n",
       "    </tr>\n",
       "    <tr>\n",
       "      <td>3</td>\n",
       "      <td>Paavo Johannes Aaltonen</td>\n",
       "      <td>1948</td>\n",
       "      <td>England</td>\n",
       "    </tr>\n",
       "    <tr>\n",
       "      <td>4</td>\n",
       "      <td>Arne Per hman</td>\n",
       "      <td>1948</td>\n",
       "      <td>England</td>\n",
       "    </tr>\n",
       "    <tr>\n",
       "      <td>...</td>\n",
       "      <td>...</td>\n",
       "      <td>...</td>\n",
       "      <td>...</td>\n",
       "    </tr>\n",
       "    <tr>\n",
       "      <td>27273</td>\n",
       "      <td>Francis Adonijah \"Frank\" Lane</td>\n",
       "      <td>1896</td>\n",
       "      <td>Greece</td>\n",
       "    </tr>\n",
       "    <tr>\n",
       "      <td>27274</td>\n",
       "      <td>Carl Schuhmann</td>\n",
       "      <td>1896</td>\n",
       "      <td>Greece</td>\n",
       "    </tr>\n",
       "    <tr>\n",
       "      <td>27275</td>\n",
       "      <td>Carl Schuhmann</td>\n",
       "      <td>1896</td>\n",
       "      <td>Greece</td>\n",
       "    </tr>\n",
       "    <tr>\n",
       "      <td>27276</td>\n",
       "      <td>Carl Schuhmann</td>\n",
       "      <td>1896</td>\n",
       "      <td>Greece</td>\n",
       "    </tr>\n",
       "    <tr>\n",
       "      <td>27277</td>\n",
       "      <td>Carl Schuhmann</td>\n",
       "      <td>1896</td>\n",
       "      <td>Greece</td>\n",
       "    </tr>\n",
       "  </tbody>\n",
       "</table>\n",
       "<p>27278 rows × 3 columns</p>\n",
       "</div>"
      ],
      "text/plain": [
       "                                Name  Year  Country\n",
       "0            Paavo Johannes Aaltonen  1948  England\n",
       "1            Paavo Johannes Aaltonen  1948  England\n",
       "2            Paavo Johannes Aaltonen  1948  England\n",
       "3            Paavo Johannes Aaltonen  1948  England\n",
       "4                      Arne Per hman  1948  England\n",
       "...                              ...   ...      ...\n",
       "27273  Francis Adonijah \"Frank\" Lane  1896   Greece\n",
       "27274                 Carl Schuhmann  1896   Greece\n",
       "27275                 Carl Schuhmann  1896   Greece\n",
       "27276                 Carl Schuhmann  1896   Greece\n",
       "27277                 Carl Schuhmann  1896   Greece\n",
       "\n",
       "[27278 rows x 3 columns]"
      ]
     },
     "execution_count": 17,
     "metadata": {},
     "output_type": "execute_result"
    }
   ],
   "source": [
    "summer_tally = pd.merge(cleaned_up_ht_wt[[\"Name\", \"Year\"]], summer_df, on=\"Year\")\n",
    "summer_tally \n"
   ]
  },
  {
   "cell_type": "code",
   "execution_count": 18,
   "metadata": {},
   "outputs": [
    {
     "data": {
      "text/html": [
       "<div>\n",
       "<style scoped>\n",
       "    .dataframe tbody tr th:only-of-type {\n",
       "        vertical-align: middle;\n",
       "    }\n",
       "\n",
       "    .dataframe tbody tr th {\n",
       "        vertical-align: top;\n",
       "    }\n",
       "\n",
       "    .dataframe thead th {\n",
       "        text-align: right;\n",
       "    }\n",
       "</style>\n",
       "<table border=\"1\" class=\"dataframe\">\n",
       "  <thead>\n",
       "    <tr style=\"text-align: right;\">\n",
       "      <th></th>\n",
       "      <th>Name</th>\n",
       "      <th>Year</th>\n",
       "      <th>Country</th>\n",
       "    </tr>\n",
       "  </thead>\n",
       "  <tbody>\n",
       "    <tr>\n",
       "      <td>0</td>\n",
       "      <td>Juhamatti Tapio Aaltonen</td>\n",
       "      <td>2014</td>\n",
       "      <td>Russia</td>\n",
       "    </tr>\n",
       "    <tr>\n",
       "      <td>1</td>\n",
       "      <td>Jeremy Abbott</td>\n",
       "      <td>2014</td>\n",
       "      <td>Russia</td>\n",
       "    </tr>\n",
       "    <tr>\n",
       "      <td>2</td>\n",
       "      <td>Victoria \"Vicki\" Adams</td>\n",
       "      <td>2014</td>\n",
       "      <td>Russia</td>\n",
       "    </tr>\n",
       "    <tr>\n",
       "      <td>3</td>\n",
       "      <td>Meghan Christina Agosta (-Marciano)</td>\n",
       "      <td>2014</td>\n",
       "      <td>Russia</td>\n",
       "    </tr>\n",
       "    <tr>\n",
       "      <td>4</td>\n",
       "      <td>Hans Daniel Alfredsson</td>\n",
       "      <td>2014</td>\n",
       "      <td>Russia</td>\n",
       "    </tr>\n",
       "    <tr>\n",
       "      <td>...</td>\n",
       "      <td>...</td>\n",
       "      <td>...</td>\n",
       "      <td>...</td>\n",
       "    </tr>\n",
       "    <tr>\n",
       "      <td>17878</td>\n",
       "      <td>James Theodore \"Jim\" Workman</td>\n",
       "      <td>1928</td>\n",
       "      <td>Switzerland</td>\n",
       "    </tr>\n",
       "    <tr>\n",
       "      <td>17879</td>\n",
       "      <td>Frank Clifford Wykoff</td>\n",
       "      <td>1928</td>\n",
       "      <td>Switzerland</td>\n",
       "    </tr>\n",
       "    <tr>\n",
       "      <td>17880</td>\n",
       "      <td>Tefilo E. Yldefonso</td>\n",
       "      <td>1928</td>\n",
       "      <td>Switzerland</td>\n",
       "    </tr>\n",
       "    <tr>\n",
       "      <td>17881</td>\n",
       "      <td>Paavo Ilmari Yrjl</td>\n",
       "      <td>1928</td>\n",
       "      <td>Switzerland</td>\n",
       "    </tr>\n",
       "    <tr>\n",
       "      <td>17882</td>\n",
       "      <td>Jerzy Feliks Zabielski</td>\n",
       "      <td>1928</td>\n",
       "      <td>Switzerland</td>\n",
       "    </tr>\n",
       "  </tbody>\n",
       "</table>\n",
       "<p>17883 rows × 3 columns</p>\n",
       "</div>"
      ],
      "text/plain": [
       "                                      Name  Year      Country\n",
       "0                 Juhamatti Tapio Aaltonen  2014       Russia\n",
       "1                            Jeremy Abbott  2014       Russia\n",
       "2                   Victoria \"Vicki\" Adams  2014       Russia\n",
       "3      Meghan Christina Agosta (-Marciano)  2014       Russia\n",
       "4                   Hans Daniel Alfredsson  2014       Russia\n",
       "...                                    ...   ...          ...\n",
       "17878         James Theodore \"Jim\" Workman  1928  Switzerland\n",
       "17879                Frank Clifford Wykoff  1928  Switzerland\n",
       "17880                  Tefilo E. Yldefonso  1928  Switzerland\n",
       "17881                    Paavo Ilmari Yrjl  1928  Switzerland\n",
       "17882               Jerzy Feliks Zabielski  1928  Switzerland\n",
       "\n",
       "[17883 rows x 3 columns]"
      ]
     },
     "execution_count": 18,
     "metadata": {},
     "output_type": "execute_result"
    }
   ],
   "source": [
    "winter_tally = pd.merge(cleaned_up_ht_wt[[\"Name\", \"Year\"]], winter_df, on=\"Year\")\n",
    "winter_tally \n"
   ]
  },
  {
   "cell_type": "code",
   "execution_count": 50,
   "metadata": {
    "scrolled": true
   },
   "outputs": [
    {
     "data": {
      "text/plain": [
       "<matplotlib.axes._subplots.AxesSubplot at 0x20bdc9c1488>"
      ]
     },
     "execution_count": 50,
     "metadata": {},
     "output_type": "execute_result"
    },
    {
     "data": {
      "image/png": "[encoded data removed]",
      "text/plain": [
       "<Figure size 432x288 with 1 Axes>"
      ]
     },
     "metadata": {
      "needs_background": "light"
     },
     "output_type": "display_data"
    },
    {
     "data": {
      "image/png": "[encoded data removed]",
      "text/plain": [
       "<Figure size 432x288 with 1 Axes>"
      ]
     },
     "metadata": {
      "needs_background": "light"
     },
     "output_type": "display_data"
    }
   ],
   "source": [
    "#win_summer_df = summer_tally.groupby(['Country'])['Country'].count()\n",
    "win_summer_df = summer_tally.groupby(['Country']).count()\n",
    "\n",
    "win_summer_df \n",
    "\n",
    "#win_summer_df.plot.bar()\n",
    "#name of the country on x/y axis \n",
    "#TODO see if average / times held \n",
    "summer_tally_weighted = pd.merge(win_summer_df,grp_by_summer_country , on=\"Country\")\n",
    "summer_tally_weighted[\"weighted tally\"] = summer_tally_weighted[\"Name\"] / summer_tally_weighted[\"Year_y\"]\n",
    "summer_tally_weighted.plot.bar(y=\"Year_x\")\n",
    "summer_tally_weighted.plot.bar(y=\"weighted tally\")"
   ]
  },
  {
   "cell_type": "code",
   "execution_count": 49,
   "metadata": {},
   "outputs": [
    {
     "data": {
      "text/plain": [
       "<matplotlib.axes._subplots.AxesSubplot at 0x20bdc3cb608>"
      ]
     },
     "execution_count": 49,
     "metadata": {},
     "output_type": "execute_result"
    },
    {
     "data": {
      "image/png": "[encoded data removed]",
      "text/plain": [
       "<Figure size 432x288 with 1 Axes>"
      ]
     },
     "metadata": {
      "needs_background": "light"
     },
     "output_type": "display_data"
    }
   ],
   "source": [
    "win_winter_df = winter_tally.groupby(['Country']).count()\n",
    "\n",
    "win_winter_df \n",
    "\n",
    "#win_summer_df.plot.bar()\n",
    "#name of the country on x/y axis \n",
    "#TODO see if average / times held \n",
    "winter_tally_weighted = pd.merge(win_winter_df,grp_by_winter_country , on=\"Country\")\n",
    "winter_tally_weighted[\"weighted tally\"] = winter_tally_weighted[\"Name\"] / winter_tally_weighted[\"Year_y\"]\n",
    "winter_tally_weighted.plot.bar(y=\"weighted tally\")"
   ]
  }
 ],
 "metadata": {
  "kernelspec": {
   "display_name": "Python 3",
   "language": "python",
   "name": "python3"
  },
  "language_info": {
   "codemirror_mode": {
    "name": "ipython",
    "version": 3
   },
   "file_extension": ".py",
   "mimetype": "text/x-python",
   "name": "python",
   "nbconvert_exporter": "python",
   "pygments_lexer": "ipython3",
   "version": "3.7.4"
  }
 },
 "nbformat": 4,
 "nbformat_minor": 2
}
